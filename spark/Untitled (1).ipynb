{
 "cells": [
  {
   "cell_type": "code",
   "execution_count": 26,
   "id": "118f2bf8-992d-483c-a17a-546352b4caed",
   "metadata": {},
   "outputs": [],
   "source": [
    "import pandas as pd\n",
    "import pyspark\n",
    "from pyspark.sql import SparkSession\n",
    "from pyspark.conf import SparkConf\n",
    "from pyspark.context import SparkContext\n",
    "from pyspark.sql import types\n",
    "from pyspark.sql.functions import col"
   ]
  },
  {
   "cell_type": "code",
   "execution_count": 2,
   "id": "e333beb6-24eb-4968-a891-2a391f581ec6",
   "metadata": {},
   "outputs": [],
   "source": [
    "credentials_location = '/home/sara/terraform/mycreds.json'\n",
    "\n",
    "conf = SparkConf() \\\n",
    "    .setMaster('local[*]') \\\n",
    "    .setAppName('test') \\\n",
    "    .set(\"spark.jars\", \"/home/sara/data-engineering-zoomcamp/05-batch/code/data/lib/gcs-connector-hadoop3.2.2.5.jar\") \\\n",
    "    .set(\"spark.hadoop.google.cloud.auth.service.account.enable\", \"true\") \\\n",
    "    .set(\"spark.hadoop.google.cloud.auth.service.account.json.keyfile\", credentials_location)"
   ]
  },
  {
   "cell_type": "code",
   "execution_count": 3,
   "id": "434d0c9c-61af-4c8c-a64b-8ec87fbc0f29",
   "metadata": {},
   "outputs": [
    {
     "name": "stdout",
     "output_type": "stream",
     "text": [
      "25/03/18 19:18:37 WARN NativeCodeLoader: Unable to load native-hadoop library for your platform... using builtin-java classes where applicable\n"
     ]
    },
    {
     "name": "stderr",
     "output_type": "stream",
     "text": [
      "Setting default log level to \"WARN\".\n",
      "To adjust logging level use sc.setLogLevel(newLevel). For SparkR, use setLogLevel(newLevel).\n"
     ]
    }
   ],
   "source": [
    "sc = SparkContext(conf=conf)\n",
    "\n",
    "hadoop_conf = sc._jsc.hadoopConfiguration()\n",
    "\n",
    "hadoop_conf.set(\"fs.AbstractFileSystem.gs.impl\",  \"com.google.cloud.hadoop.fs.gcs.GoogleHadoopFS\")\n",
    "hadoop_conf.set(\"fs.gs.impl\", \"com.google.cloud.hadoop.fs.gcs.GoogleHadoopFileSystem\")\n",
    "hadoop_conf.set(\"fs.gs.auth.service.account.json.keyfile\", credentials_location)\n",
    "hadoop_conf.set(\"fs.gs.auth.service.account.enable\", \"true\")\n"
   ]
  },
  {
   "cell_type": "code",
   "execution_count": 4,
   "id": "09e6388b-f985-4f38-87b8-424613fce070",
   "metadata": {},
   "outputs": [],
   "source": [
    "spark = SparkSession.builder \\\n",
    "    .config(conf=sc.getConf()) \\\n",
    "    .getOrCreate()"
   ]
  },
  {
   "cell_type": "code",
   "execution_count": 33,
   "id": "22b58d92-85c5-4c92-9904-0912657de412",
   "metadata": {},
   "outputs": [],
   "source": [
    "df = spark.read \\\n",
    "    .option(\"header\", \"true\") \\\n",
    "    .csv('Walmart_customer_purchases.csv')\n",
    "\n"
   ]
  },
  {
   "cell_type": "code",
   "execution_count": 34,
   "id": "1fee8bd4-d7c3-4306-95b2-8c9a7844e82d",
   "metadata": {},
   "outputs": [
    {
     "data": {
      "text/plain": [
       "[('Customer_ID', 'string'),\n",
       " ('Age', 'string'),\n",
       " ('Gender', 'string'),\n",
       " ('City', 'string'),\n",
       " ('Category', 'string'),\n",
       " ('Product_Name', 'string'),\n",
       " ('Purchase_Date', 'string'),\n",
       " ('Purchase_Amount', 'string'),\n",
       " ('Payment_Method', 'string'),\n",
       " ('Discount_Applied', 'string'),\n",
       " ('Rating', 'string'),\n",
       " ('Repeat_Customer', 'string')]"
      ]
     },
     "execution_count": 34,
     "metadata": {},
     "output_type": "execute_result"
    }
   ],
   "source": [
    "df.dtypes"
   ]
  },
  {
   "cell_type": "code",
   "execution_count": 37,
   "id": "bf6fbc15-fc79-4517-8ad3-2c64241c88e5",
   "metadata": {},
   "outputs": [],
   "source": [
    "ischema = types.StructType([\n",
    "    types.StructField('Customer_ID', types.StringType(), True),\n",
    "    types.StructField('Age', types.IntegerType(), True),\n",
    "    types.StructField('Gender', types.StringType(), True),\n",
    "    types.StructField('City', types.StringType(), True),\n",
    "    types.StructField('Category', types.StringType(), True),\n",
    "    types.StructField('Product_Name', types.StringType(), True),\n",
    "    types.StructField('Purchase_Date', types.TimestampType(), True),\n",
    "    types.StructField('Purchase_Amount', types.FloatType(), True),\n",
    "    types.StructField('Payment_Method',types.StringType(), True),\n",
    "    types.StructField('Discount_Applied', types.StringType(), True),\n",
    "    types.StructField('Rating', types.IntegerType(), True),\n",
    "    types.StructField('Repeat_Customer', types.StringType(), True)\n",
    "])"
   ]
  },
  {
   "cell_type": "code",
   "execution_count": 38,
   "id": "4e323649-5cd0-4d39-a5c5-42771e5cec6c",
   "metadata": {},
   "outputs": [],
   "source": [
    "df = spark.read.csv(\"Walmart_customer_purchases.csv\", schema=ischema, header=True)"
   ]
  },
  {
   "cell_type": "code",
   "execution_count": 40,
   "id": "0266a5b7-5703-4ef5-8529-c80a577c924f",
   "metadata": {},
   "outputs": [
    {
     "name": "stdout",
     "output_type": "stream",
     "text": [
      "root\n",
      " |-- Customer_ID: string (nullable = true)\n",
      " |-- Age: integer (nullable = true)\n",
      " |-- Gender: string (nullable = true)\n",
      " |-- City: string (nullable = true)\n",
      " |-- Category: string (nullable = true)\n",
      " |-- Product_Name: string (nullable = true)\n",
      " |-- Purchase_Date: timestamp (nullable = true)\n",
      " |-- Purchase_Amount: float (nullable = true)\n",
      " |-- Payment_Method: string (nullable = true)\n",
      " |-- Discount_Applied: string (nullable = true)\n",
      " |-- Rating: integer (nullable = true)\n",
      " |-- Repeat_Customer: string (nullable = true)\n",
      "\n"
     ]
    }
   ],
   "source": [
    "df.printSchema()"
   ]
  },
  {
   "cell_type": "code",
   "execution_count": 32,
   "id": "07d974c0-8dbd-4605-a5d5-4f764f5ede0c",
   "metadata": {},
   "outputs": [
    {
     "name": "stdout",
     "output_type": "stream",
     "text": [
      "+----------+--------------+\n",
      "|null_count|non_null_count|\n",
      "+----------+--------------+\n",
      "|         0|         50000|\n",
      "+----------+--------------+\n",
      "\n"
     ]
    }
   ],
   "source": [
    "from pyspark.sql.functions import count, when\n",
    "df.select(\n",
    "    count(when(col(\"Purchase_Amount\").isNull(), 1)).alias(\"null_count\"),\n",
    "    count(when(col(\"Purchase_Amount\").isNotNull(), 1)).alias(\"non_null_count\")\n",
    ").show()"
   ]
  },
  {
   "cell_type": "code",
   "execution_count": 41,
   "id": "395712e0-2f1c-48c5-9390-6f6689d3964e",
   "metadata": {},
   "outputs": [],
   "source": [
    "gcs_output_path = \"gs://buc-inspiring-453522_m5/Walmart_customer_purchases.parquet\""
   ]
  },
  {
   "cell_type": "code",
   "execution_count": 42,
   "id": "013234ff-fa67-4b8b-84d6-64054668219b",
   "metadata": {},
   "outputs": [
    {
     "name": "stderr",
     "output_type": "stream",
     "text": [
      "                                                                                \r"
     ]
    }
   ],
   "source": [
    "# Writing DataFrame to GCS in Parquet format with overwrite mode\n",
    "df.write \\\n",
    "    .mode(\"overwrite\") \\\n",
    "    .format(\"parquet\") \\\n",
    "    .save(gcs_output_path)\n"
   ]
  },
  {
   "cell_type": "code",
   "execution_count": null,
   "id": "f6b8fb2e-204e-43a3-aad5-335d796928c4",
   "metadata": {},
   "outputs": [],
   "source": []
  }
 ],
 "metadata": {
  "kernelspec": {
   "display_name": "Python 3 (ipykernel)",
   "language": "python",
   "name": "python3"
  },
  "language_info": {
   "codemirror_mode": {
    "name": "ipython",
    "version": 3
   },
   "file_extension": ".py",
   "mimetype": "text/x-python",
   "name": "python",
   "nbconvert_exporter": "python",
   "pygments_lexer": "ipython3",
   "version": "3.12.7"
  }
 },
 "nbformat": 4,
 "nbformat_minor": 5
}
